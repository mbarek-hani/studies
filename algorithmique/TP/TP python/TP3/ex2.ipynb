{
 "cells": [
  {
   "cell_type": "code",
   "execution_count": 2,
   "id": "995d1530-56d0-42ec-90e5-3f0fb842cb79",
   "metadata": {},
   "outputs": [],
   "source": [
    "import csv\n",
    "from typing import List, Dict"
   ]
  },
  {
   "cell_type": "markdown",
   "id": "fdd77632-b7c4-46d7-8a20-87477bcca594",
   "metadata": {},
   "source": [
    "#### Charge les données depuis un fichier CSV.\n",
    "##### Colonnes attendues : Nom, Matière, Note"
   ]
  },
  {
   "cell_type": "code",
   "execution_count": 3,
   "id": "cb9520e5-3c9b-4619-bc5b-7db21103299f",
   "metadata": {},
   "outputs": [],
   "source": [
    "def read_csv(filename: str) -> List[Dict]:\n",
    "    students_data = []\n",
    "    with open(filename, 'r') as file:\n",
    "        reader = csv.DictReader(file)\n",
    "        for row in reader:\n",
    "            # Convertir la note en float\n",
    "            row['Note'] = float(row['Note'])\n",
    "            students_data.append(row)\n",
    "    return students_data"
   ]
  },
  {
   "cell_type": "markdown",
   "id": "263a59a0-1130-436d-9445-5ed1489085b8",
   "metadata": {},
   "source": [
    "#### Calcule la moyenne d'une liste de nombres"
   ]
  },
  {
   "cell_type": "code",
   "execution_count": 4,
   "id": "655aeecd-e46a-4f40-b4ad-15594bdce0e3",
   "metadata": {},
   "outputs": [],
   "source": [
    "def calculate_mean(numbers: List[float]) -> float:\n",
    "    if len(numbers) == 0:\n",
    "        return 0\n",
    "    return sum(numbers) / len(numbers)"
   ]
  },
  {
   "cell_type": "markdown",
   "id": "efd89033-adc6-4e8c-a2d7-adcb2c208870",
   "metadata": {},
   "source": [
    "#### Calcule la moyenne des notes pour chaque étudiant."
   ]
  },
  {
   "cell_type": "code",
   "execution_count": 5,
   "id": "cc28e840-f809-4629-9af3-f7f67d147e52",
   "metadata": {},
   "outputs": [],
   "source": [
    "def average_grade(data: List[Dict]) -> Dict[str, float]:\n",
    "    # Grouper les notes par étudiant\n",
    "    student_grades = {}\n",
    "    for row in data:\n",
    "        if row['Nom'] not in student_grades:\n",
    "            student_grades[row['Nom']] = []\n",
    "        student_grades[row['Nom']].append(row['Note'])\n",
    "    \n",
    "    # Calculer la moyenne pour chaque étudiant\n",
    "    averages = {\n",
    "        name: calculate_mean(grades) \n",
    "        for name, grades in student_grades.items()\n",
    "    }\n",
    "    return averages"
   ]
  },
  {
   "cell_type": "markdown",
   "id": "9da6aa36-171e-4502-91ca-cace8b13c41d",
   "metadata": {},
   "source": [
    "#### Trouve les n meilleurs étudiants basé sur leur moyenne."
   ]
  },
  {
   "cell_type": "code",
   "execution_count": 6,
   "id": "699308b5-ed64-4597-873a-f12cbc793c14",
   "metadata": {},
   "outputs": [],
   "source": [
    "def top_students(data: List[Dict], n: int) -> List[Dict[str, float]]:\n",
    "    # Calculer les moyennes\n",
    "    averages = average_grade(data)\n",
    "    \n",
    "    # Trier les étudiants par moyenne décroissante\n",
    "    sorted_students = sorted(\n",
    "        averages.items(),\n",
    "        key=lambda x: x[1],\n",
    "        reverse=True\n",
    "    )\n",
    "    \n",
    "    # Prendre les n premiers\n",
    "    return [\n",
    "        {\"Nom\": name, \"Moyenne\": avg}\n",
    "        for name, avg in sorted_students[:n]\n",
    "    ]"
   ]
  },
  {
   "cell_type": "code",
   "execution_count": 7,
   "id": "784e43c6-2110-4d51-aea0-b72d5956aa0a",
   "metadata": {},
   "outputs": [],
   "source": [
    "def save_top_students(filename: str, top_students_data: List[Dict[str, float]]) -> None:\n",
    "    \"\"\"\n",
    "    Sauvegarde les informations des meilleurs étudiants dans un fichier texte.\n",
    "    \"\"\"\n",
    "    with open(filename, 'w') as file:\n",
    "        file.write(\"Classement des meilleurs étudiants :\\n\\n\")\n",
    "        for i, student in enumerate(top_students_data, 1):\n",
    "            file.write(f\"\\t{i}. {student['Nom']}: {student['Moyenne']:.2f}\\n\")"
   ]
  },
  {
   "cell_type": "code",
   "execution_count": 8,
   "id": "3a11a936-d4d1-4b86-bc30-701d29502e4d",
   "metadata": {},
   "outputs": [
    {
     "name": "stdout",
     "output_type": "stream",
     "text": [
      "L'analyse a été complétée avec succès !\n"
     ]
    }
   ],
   "source": [
    "try:\n",
    "    # Charger les données\n",
    "    data = read_csv(\"results.csv\")\n",
    "        \n",
    "    # Trouver les 3 meilleurs étudiants\n",
    "    best_students = top_students(data, 3)\n",
    "        \n",
    "    # Sauvegarder les résultats\n",
    "    save_top_students(\"top_students.txt\", best_students)\n",
    "        \n",
    "    print(\"L'analyse a été complétée avec succès !\")\n",
    "        \n",
    "except FileNotFoundError:\n",
    "    print(\"Erreur : Le fichier results.csv n'a pas été trouvé.\")\n",
    "except Exception as e:\n",
    "    print(f\"Une erreur est survenue : {e}\")"
   ]
  }
 ],
 "metadata": {
  "kernelspec": {
   "display_name": ".venv",
   "language": "python",
   "name": ".venv"
  },
  "language_info": {
   "codemirror_mode": {
    "name": "ipython",
    "version": 3
   },
   "file_extension": ".py",
   "mimetype": "text/x-python",
   "name": "python",
   "nbconvert_exporter": "python",
   "pygments_lexer": "ipython3",
   "version": "3.13.1"
  }
 },
 "nbformat": 4,
 "nbformat_minor": 5
}
