{
 "cells": [
  {
   "cell_type": "code",
   "execution_count": 1,
   "id": "cd9d91e7-b94d-4d10-a649-b791cb0b6a5e",
   "metadata": {},
   "outputs": [],
   "source": [
    "from typing import Generator, Dict"
   ]
  },
  {
   "cell_type": "code",
   "execution_count": 2,
   "id": "ff376ba1-1806-4298-abc3-72bf566bbf87",
   "metadata": {},
   "outputs": [],
   "source": [
    "def read_file(filename: str) -> Generator[str, None, None]:\n",
    "    \"\"\"Lit le fichier ligne par ligne en utilisant un générateur.\"\"\"\n",
    "    try:\n",
    "        with open(filename, 'r') as file:\n",
    "            for line in file:\n",
    "                yield line.strip()\n",
    "    except FileNotFoundError:\n",
    "        print(f\"Error: le fichier {filename} n'existe pas!\")"
   ]
  },
  {
   "cell_type": "code",
   "execution_count": 3,
   "id": "f2b4cfb5-f3ee-4125-88ca-cc78b90390c3",
   "metadata": {},
   "outputs": [],
   "source": [
    "def get_words(content: Generator[str, None, None]) -> Generator[str, None, None]:\n",
    "    \"\"\"Génère les mots à partir du contenu, un mot à la fois.\"\"\"\n",
    "    for line in content:\n",
    "        for word in line.split():\n",
    "            yield word.lower()"
   ]
  },
  {
   "cell_type": "code",
   "execution_count": 4,
   "id": "1026d9c8-d8a9-462c-8198-31a3152d7f0b",
   "metadata": {},
   "outputs": [],
   "source": [
    "def count_words(words: Generator[str, None, None]) -> int:\n",
    "    \"\"\"Compte le nombre total de mots.\"\"\"\n",
    "    return sum(1 for _ in words)"
   ]
  },
  {
   "cell_type": "code",
   "execution_count": 6,
   "id": "e9841812-8745-4907-9f54-769377d27a5c",
   "metadata": {},
   "outputs": [],
   "source": [
    "def find_most_common_word(words: Generator[str, None, None]) -> str:\n",
    "    \"\"\"Trouve le mot le plus fréquent en utilisant un dictionnaire.\"\"\"\n",
    "    word_count: Dict[str, int] = {}\n",
    "    \n",
    "    # Compter la fréquence de chaque mot\n",
    "    for word in words:\n",
    "        if word in word_count:\n",
    "            word_count[word] += 1\n",
    "        else:\n",
    "            word_count[word] = 1\n",
    "    \n",
    "    # Trouver le mot avec la plus grande fréquence\n",
    "    most_common_word = ''\n",
    "    max_count = 0\n",
    "    \n",
    "    for word, count in word_count.items():\n",
    "        if count > max_count:\n",
    "            max_count = count\n",
    "            most_common_word = word\n",
    "            \n",
    "    return most_common_word"
   ]
  },
  {
   "cell_type": "code",
   "execution_count": 7,
   "id": "82183f99-98a9-4301-9c13-2f7613e1a93f",
   "metadata": {},
   "outputs": [],
   "source": [
    "def save_results(output_file: str, total_words: int, most_common_word: str) -> None:\n",
    "    \"\"\"Sauvegarde les résultats dans un fichier.\"\"\"\n",
    "    with open(output_file, 'w') as file:\n",
    "        file.write(f\"Nombre total de mots: {total_words}\\n\")\n",
    "        file.write(f\"Mot le plus fréquent: \\\"{most_common_word}\\\"\\n\")"
   ]
  },
  {
   "cell_type": "code",
   "execution_count": 11,
   "id": "bfd72a6f-fa8c-47a3-81d7-dabb513c4d7e",
   "metadata": {},
   "outputs": [
    {
     "name": "stdout",
     "output_type": "stream",
     "text": [
      "Analyse terminée. Résultats sauvegardés dans results.txt\n"
     ]
    }
   ],
   "source": [
    "try:\n",
    "    # Lecture et analyse du fichier\n",
    "    content = read_file(\"data.txt\")\n",
    "        \n",
    "    # Pour le compte total des mots\n",
    "    words_for_count = get_words(content)\n",
    "    total_words = count_words(words_for_count)\n",
    "        \n",
    "    # Pour trouver le mot le plus fréquent\n",
    "    # On doit relire le fichier car le générateur précédent est épuisé\n",
    "    content = read_file(\"data.txt\")\n",
    "    words_for_common = get_words(content)\n",
    "    most_common = find_most_common_word(words_for_common)\n",
    "        \n",
    "    # Sauvegarde des résultats\n",
    "    save_results(\"results.txt\", total_words, most_common)\n",
    "        \n",
    "    print(f\"Analyse terminée. Résultats sauvegardés dans results.txt\")\n",
    "except Exception as e:\n",
    "    print(f\"Une erreur est survenue: {str(e)}\")"
   ]
  }
 ],
 "metadata": {
  "kernelspec": {
   "display_name": ".venv",
   "language": "python",
   "name": ".venv"
  },
  "language_info": {
   "codemirror_mode": {
    "name": "ipython",
    "version": 3
   },
   "file_extension": ".py",
   "mimetype": "text/x-python",
   "name": "python",
   "nbconvert_exporter": "python",
   "pygments_lexer": "ipython3",
   "version": "3.13.1"
  }
 },
 "nbformat": 4,
 "nbformat_minor": 5
}
