{
 "cells": [
  {
   "cell_type": "code",
   "execution_count": 2,
   "id": "a0de070f-82cf-4713-998c-99543ad9c378",
   "metadata": {
    "editable": true,
    "slideshow": {
     "slide_type": ""
    },
    "tags": []
   },
   "outputs": [
    {
     "name": "stdout",
     "output_type": "stream",
     "text": [
      "2.2.3\n"
     ]
    }
   ],
   "source": [
    "import pandas as pd\n",
    "\n",
    "print(pd.__version__)"
   ]
  },
  {
   "cell_type": "markdown",
   "id": "3719daf9-3c74-4272-8154-7d4711aaedf0",
   "metadata": {},
   "source": [
    "## Charger les données dans un DataFrame"
   ]
  },
  {
   "cell_type": "code",
   "execution_count": 4,
   "id": "956b94be-940d-4b39-90f6-929e5a3e6046",
   "metadata": {},
   "outputs": [
    {
     "data": {
      "text/html": [
       "<div>\n",
       "<style scoped>\n",
       "    .dataframe tbody tr th:only-of-type {\n",
       "        vertical-align: middle;\n",
       "    }\n",
       "\n",
       "    .dataframe tbody tr th {\n",
       "        vertical-align: top;\n",
       "    }\n",
       "\n",
       "    .dataframe thead th {\n",
       "        text-align: right;\n",
       "    }\n",
       "</style>\n",
       "<table border=\"1\" class=\"dataframe\">\n",
       "  <thead>\n",
       "    <tr style=\"text-align: right;\">\n",
       "      <th></th>\n",
       "      <th>Produit</th>\n",
       "      <th>Quantité</th>\n",
       "      <th>Prix</th>\n",
       "    </tr>\n",
       "  </thead>\n",
       "  <tbody>\n",
       "    <tr>\n",
       "      <th>0</th>\n",
       "      <td>Ordinateur</td>\n",
       "      <td>10</td>\n",
       "      <td>8000</td>\n",
       "    </tr>\n",
       "    <tr>\n",
       "      <th>1</th>\n",
       "      <td>Téléphone</td>\n",
       "      <td>50</td>\n",
       "      <td>3000</td>\n",
       "    </tr>\n",
       "    <tr>\n",
       "      <th>2</th>\n",
       "      <td>Imprimante</td>\n",
       "      <td>5</td>\n",
       "      <td>1500</td>\n",
       "    </tr>\n",
       "    <tr>\n",
       "      <th>3</th>\n",
       "      <td>Tablette</td>\n",
       "      <td>20</td>\n",
       "      <td>2000</td>\n",
       "    </tr>\n",
       "    <tr>\n",
       "      <th>4</th>\n",
       "      <td>Casque</td>\n",
       "      <td>30</td>\n",
       "      <td>500</td>\n",
       "    </tr>\n",
       "  </tbody>\n",
       "</table>\n",
       "</div>"
      ],
      "text/plain": [
       "      Produit  Quantité  Prix\n",
       "0  Ordinateur        10  8000\n",
       "1   Téléphone        50  3000\n",
       "2  Imprimante         5  1500\n",
       "3    Tablette        20  2000\n",
       "4      Casque        30   500"
      ]
     },
     "execution_count": 4,
     "metadata": {},
     "output_type": "execute_result"
    }
   ],
   "source": [
    "df = pd.read_csv('sales.csv')\n",
    "df"
   ]
  },
  {
   "cell_type": "markdown",
   "id": "7b0f333e-2059-4840-9af6-c9c127ada410",
   "metadata": {},
   "source": [
    "## Calculer le revenu total par produit"
   ]
  },
  {
   "cell_type": "code",
   "execution_count": 23,
   "id": "b307ff1a-ee92-4bdb-8063-279defd65970",
   "metadata": {},
   "outputs": [
    {
     "data": {
      "text/html": [
       "<div>\n",
       "<style scoped>\n",
       "    .dataframe tbody tr th:only-of-type {\n",
       "        vertical-align: middle;\n",
       "    }\n",
       "\n",
       "    .dataframe tbody tr th {\n",
       "        vertical-align: top;\n",
       "    }\n",
       "\n",
       "    .dataframe thead th {\n",
       "        text-align: right;\n",
       "    }\n",
       "</style>\n",
       "<table border=\"1\" class=\"dataframe\">\n",
       "  <thead>\n",
       "    <tr style=\"text-align: right;\">\n",
       "      <th></th>\n",
       "      <th>Produit</th>\n",
       "      <th>Revenu</th>\n",
       "    </tr>\n",
       "  </thead>\n",
       "  <tbody>\n",
       "    <tr>\n",
       "      <th>0</th>\n",
       "      <td>Casque</td>\n",
       "      <td>15000</td>\n",
       "    </tr>\n",
       "    <tr>\n",
       "      <th>1</th>\n",
       "      <td>Imprimante</td>\n",
       "      <td>7500</td>\n",
       "    </tr>\n",
       "    <tr>\n",
       "      <th>2</th>\n",
       "      <td>Ordinateur</td>\n",
       "      <td>80000</td>\n",
       "    </tr>\n",
       "    <tr>\n",
       "      <th>3</th>\n",
       "      <td>Tablette</td>\n",
       "      <td>40000</td>\n",
       "    </tr>\n",
       "    <tr>\n",
       "      <th>4</th>\n",
       "      <td>Téléphone</td>\n",
       "      <td>150000</td>\n",
       "    </tr>\n",
       "  </tbody>\n",
       "</table>\n",
       "</div>"
      ],
      "text/plain": [
       "      Produit  Revenu\n",
       "0      Casque   15000\n",
       "1  Imprimante    7500\n",
       "2  Ordinateur   80000\n",
       "3    Tablette   40000\n",
       "4   Téléphone  150000"
      ]
     },
     "execution_count": 23,
     "metadata": {},
     "output_type": "execute_result"
    }
   ],
   "source": [
    "df['Revenu'] = df['Quantité'] * df['Prix']\n",
    "resultats = df.groupby('Produit')['Revenu'].sum().reset_index()\n",
    "resultats"
   ]
  },
  {
   "cell_type": "markdown",
   "id": "8625b0df-26a9-4403-a5d3-0cd77afdbfaa",
   "metadata": {},
   "source": [
    "### Ajouter les quantités vendues et identifier le plus vendu"
   ]
  },
  {
   "cell_type": "code",
   "execution_count": 25,
   "id": "a48e1d21-c0c7-40d5-a52a-7003d71913bf",
   "metadata": {},
   "outputs": [
    {
     "data": {
      "text/html": [
       "<div>\n",
       "<style scoped>\n",
       "    .dataframe tbody tr th:only-of-type {\n",
       "        vertical-align: middle;\n",
       "    }\n",
       "\n",
       "    .dataframe tbody tr th {\n",
       "        vertical-align: top;\n",
       "    }\n",
       "\n",
       "    .dataframe thead th {\n",
       "        text-align: right;\n",
       "    }\n",
       "</style>\n",
       "<table border=\"1\" class=\"dataframe\">\n",
       "  <thead>\n",
       "    <tr style=\"text-align: right;\">\n",
       "      <th></th>\n",
       "      <th>Produit</th>\n",
       "      <th>Revenu</th>\n",
       "      <th>Est_Plus_Vendu</th>\n",
       "    </tr>\n",
       "  </thead>\n",
       "  <tbody>\n",
       "    <tr>\n",
       "      <th>0</th>\n",
       "      <td>Casque</td>\n",
       "      <td>15000</td>\n",
       "      <td>Non</td>\n",
       "    </tr>\n",
       "    <tr>\n",
       "      <th>1</th>\n",
       "      <td>Imprimante</td>\n",
       "      <td>7500</td>\n",
       "      <td>Non</td>\n",
       "    </tr>\n",
       "    <tr>\n",
       "      <th>2</th>\n",
       "      <td>Ordinateur</td>\n",
       "      <td>80000</td>\n",
       "      <td>Non</td>\n",
       "    </tr>\n",
       "    <tr>\n",
       "      <th>3</th>\n",
       "      <td>Tablette</td>\n",
       "      <td>40000</td>\n",
       "      <td>Non</td>\n",
       "    </tr>\n",
       "    <tr>\n",
       "      <th>4</th>\n",
       "      <td>Téléphone</td>\n",
       "      <td>150000</td>\n",
       "      <td>Oui</td>\n",
       "    </tr>\n",
       "  </tbody>\n",
       "</table>\n",
       "</div>"
      ],
      "text/plain": [
       "      Produit  Revenu Est_Plus_Vendu\n",
       "0      Casque   15000            Non\n",
       "1  Imprimante    7500            Non\n",
       "2  Ordinateur   80000            Non\n",
       "3    Tablette   40000            Non\n",
       "4   Téléphone  150000            Oui"
      ]
     },
     "execution_count": 25,
     "metadata": {},
     "output_type": "execute_result"
    }
   ],
   "source": [
    "quantites = df.groupby('Produit')['Quantité'].sum()\n",
    "max_quantite = quantites.max()\n",
    "resultats['Est_Plus_Vendu'] = ['Oui' if q == max_quantite else 'Non' \n",
    "                              for q in quantites]\n",
    "resultats"
   ]
  },
  {
   "cell_type": "markdown",
   "id": "16688efd-74d9-4aeb-9c3b-9b8b3912ecfe",
   "metadata": {},
   "source": [
    "### Ajouter l'indicateur pour revenu > 1000"
   ]
  },
  {
   "cell_type": "code",
   "execution_count": 26,
   "id": "9eb717a8-03fe-4913-ac03-37bfbb1c86b6",
   "metadata": {},
   "outputs": [
    {
     "data": {
      "text/html": [
       "<div>\n",
       "<style scoped>\n",
       "    .dataframe tbody tr th:only-of-type {\n",
       "        vertical-align: middle;\n",
       "    }\n",
       "\n",
       "    .dataframe tbody tr th {\n",
       "        vertical-align: top;\n",
       "    }\n",
       "\n",
       "    .dataframe thead th {\n",
       "        text-align: right;\n",
       "    }\n",
       "</style>\n",
       "<table border=\"1\" class=\"dataframe\">\n",
       "  <thead>\n",
       "    <tr style=\"text-align: right;\">\n",
       "      <th></th>\n",
       "      <th>Produit</th>\n",
       "      <th>Revenu</th>\n",
       "      <th>Est_Plus_Vendu</th>\n",
       "      <th>Revenu_Superieur_1000</th>\n",
       "    </tr>\n",
       "  </thead>\n",
       "  <tbody>\n",
       "    <tr>\n",
       "      <th>0</th>\n",
       "      <td>Casque</td>\n",
       "      <td>15000</td>\n",
       "      <td>Non</td>\n",
       "      <td>Oui</td>\n",
       "    </tr>\n",
       "    <tr>\n",
       "      <th>1</th>\n",
       "      <td>Imprimante</td>\n",
       "      <td>7500</td>\n",
       "      <td>Non</td>\n",
       "      <td>Oui</td>\n",
       "    </tr>\n",
       "    <tr>\n",
       "      <th>2</th>\n",
       "      <td>Ordinateur</td>\n",
       "      <td>80000</td>\n",
       "      <td>Non</td>\n",
       "      <td>Oui</td>\n",
       "    </tr>\n",
       "    <tr>\n",
       "      <th>3</th>\n",
       "      <td>Tablette</td>\n",
       "      <td>40000</td>\n",
       "      <td>Non</td>\n",
       "      <td>Oui</td>\n",
       "    </tr>\n",
       "    <tr>\n",
       "      <th>4</th>\n",
       "      <td>Téléphone</td>\n",
       "      <td>150000</td>\n",
       "      <td>Oui</td>\n",
       "      <td>Oui</td>\n",
       "    </tr>\n",
       "  </tbody>\n",
       "</table>\n",
       "</div>"
      ],
      "text/plain": [
       "      Produit  Revenu Est_Plus_Vendu Revenu_Superieur_1000\n",
       "0      Casque   15000            Non                   Oui\n",
       "1  Imprimante    7500            Non                   Oui\n",
       "2  Ordinateur   80000            Non                   Oui\n",
       "3    Tablette   40000            Non                   Oui\n",
       "4   Téléphone  150000            Oui                   Oui"
      ]
     },
     "execution_count": 26,
     "metadata": {},
     "output_type": "execute_result"
    }
   ],
   "source": [
    "seuil_revenu = 1000\n",
    "resultats['Revenu_Superieur_1000'] = ['Oui' if rev > seuil_revenu else 'Non' \n",
    "                                     for rev in resultats['Revenu']]\n",
    "resultats"
   ]
  },
  {
   "cell_type": "markdown",
   "id": "2468f6cf-e5ff-4a84-9026-b8228d9ee65a",
   "metadata": {},
   "source": [
    "### Sauvegarder les résultats"
   ]
  },
  {
   "cell_type": "code",
   "execution_count": 27,
   "id": "64f74b46-4820-4ca2-861a-3c02dfc16c95",
   "metadata": {},
   "outputs": [],
   "source": [
    "resultats.to_csv('sales_report.csv', index=False)"
   ]
  }
 ],
 "metadata": {
  "kernelspec": {
   "display_name": ".venv",
   "language": "python",
   "name": ".venv"
  },
  "language_info": {
   "codemirror_mode": {
    "name": "ipython",
    "version": 3
   },
   "file_extension": ".py",
   "mimetype": "text/x-python",
   "name": "python",
   "nbconvert_exporter": "python",
   "pygments_lexer": "ipython3",
   "version": "3.13.1"
  }
 },
 "nbformat": 4,
 "nbformat_minor": 5
}
